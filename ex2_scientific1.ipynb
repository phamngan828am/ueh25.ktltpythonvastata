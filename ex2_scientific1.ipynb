{
 "cells": [
  {
   "cell_type": "markdown",
   "id": "1b124828-6638-432b-b78a-ae15e1cc3a81",
   "metadata": {},
   "source": [
    "#%% md\n",
    "\n",
    "# ex2_scientific1\n",
    "\n",
    "## Nội dung bài\n",
    "Hiển thị ngẫu nhiên $N=50$ hình tròn:\n",
    "+ Tâm $c_i = (x_i,y_i)$ ngẫu nhiên với $x_i, y_i \\in \\left[0, 1 \\right]$\n",
    "+ Màu sắc $color_i$ ngẫu nhiên với $color_i \\in \\left[0, 1 \\right]$\n",
    "+ Diện tích $area_i = \\pi * r_i^2$ với sinh ngẫu nhiên $r_i \\in \\left[0, 1 \\right]$\n",
    "\n",
    "## Bài làm"
   ]
  },
  {
   "cell_type": "markdown",
   "id": "fe9e986b-5bc9-451d-85e8-8323130c1556",
   "metadata": {},
   "source": [
    "### Import thư viện\n"
   ]
  },
  {
   "cell_type": "code",
   "execution_count": 6,
   "id": "40a1e2f1-a0a8-4863-bc0b-f42c2d1a3491",
   "metadata": {},
   "outputs": [],
   "source": [
    "import numpy as np\n",
    "import matplotlib.pyplot as plt\n",
    "from IPython import display # hiển thị rich output\n"
   ]
  },
  {
   "cell_type": "markdown",
   "id": "1f8bc9f4-683e-42b3-ba03-cb6991c03ba2",
   "metadata": {},
   "source": [
    "### Sinh ngẫu nhiên hình tròn"
   ]
  },
  {
   "cell_type": "code",
   "execution_count": 7,
   "id": "eda67674-9c15-4c0e-926c-00c4aca68ac0",
   "metadata": {},
   "outputs": [
    {
     "name": "stdout",
     "output_type": "stream",
     "text": [
      "CPU times: user 3 μs, sys: 0 ns, total: 3 μs\n",
      "Wall time: 5.96 μs\n"
     ]
    }
   ],
   "source": [
    "#%%\n",
    "\n",
    "%time\n",
    "# generate randomly the center (x,y ) of circle, color, area\n",
    "N = 50\n",
    "x = np.random.rand(N)\n",
    "y = np.random.rand(N)\n",
    "colors = np.random.rand(N)\n",
    "area = np.pi * (15 * np.random.rand(N)) ** 2  # 0 to 15 point radii"
   ]
  },
  {
   "cell_type": "code",
   "execution_count": 8,
   "id": "34523e31-04af-4a29-9a3a-030e214117db",
   "metadata": {},
   "outputs": [
    {
     "name": "stdout",
     "output_type": "stream",
     "text": [
      "+ x: len=50, [0.00, 0.99]: 10 samples [[0.79564627 0.13325759 0.15372712 0.45132223 0.25053118 0.61280425\n",
      " 0.00270723 0.08113524 0.81160688 0.84284093]]\n",
      "+ y: len=50, [0.01, 0.99]: 10 samples [[0.01493633 0.87222071 0.1735196  0.6598927  0.02730026 0.81736954\n",
      " 0.70113766 0.74456015 0.11848922 0.42119884]]\n",
      "+ colors: len=50, [0.02, 0.98]: 10 samples [[0.55510866 0.08617539 0.53811565 0.58570626 0.21417382 0.02592383\n",
      " 0.39982825 0.84440978 0.70087948 0.38873386]]\n",
      "+ area: len=50, [0.03, 705.20]: 10 samples [[304.02431238  78.15860649  43.17649922  63.5059923  121.35033243\n",
      " 534.16429828 584.86020348 314.58694567  92.7552725  255.46624334]]\n"
     ]
    }
   ],
   "source": [
    "# Mã kiểm tra dữ liệu\n",
    "print(f'+ x: len={len(x):d}, [{min(x):.2f}, {max(x):.2f}]: 10 samples [{x[0:10]}]')\n",
    "print(f'+ y: len={len(y):d}, [{min(y):.2f}, {max(y):.2f}]: 10 samples [{y[0:10]}]')\n",
    "print(f'+ colors: len={len(colors):d}, [{min(colors):.2f}, {max(colors):.2f}]: 10 samples [{colors[0:10]}]')\n",
    "print(f'+ area: len={len(area):d}, [{min(area):.2f}, {max(area):.2f}]: 10 samples [{area[0:10]}]')\n"
   ]
  },
  {
   "cell_type": "markdown",
   "id": "e80bb362-0f42-4544-93a1-3ac730aa6825",
   "metadata": {},
   "source": [
    "\n",
    "### Hiển thị đồ thị\n"
   ]
  },
  {
   "cell_type": "code",
   "execution_count": null,
   "id": "0e009ec0-71fc-4919-bf4b-5cdf369067d0",
   "metadata": {},
   "outputs": [],
   "source": []
  }
 ],
 "metadata": {
  "kernelspec": {
   "display_name": "Python 3 (ipykernel)",
   "language": "python",
   "name": "python3"
  },
  "language_info": {
   "codemirror_mode": {
    "name": "ipython",
    "version": 3
   },
   "file_extension": ".py",
   "mimetype": "text/x-python",
   "name": "python",
   "nbconvert_exporter": "python",
   "pygments_lexer": "ipython3",
   "version": "3.12.1"
  }
 },
 "nbformat": 4,
 "nbformat_minor": 5
}
