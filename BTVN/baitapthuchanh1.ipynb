{
 "cells": [
  {
   "cell_type": "markdown",
   "id": "ebc221c9-02f1-4096-96b4-e47ff52c09d8",
   "metadata": {},
   "source": [
    "# Bài tập buổi 2\n",
    "## bài 1"
   ]
  },
  {
   "cell_type": "code",
   "execution_count": 1,
   "id": "81128578-989e-40d3-a09d-b5d74348b4dd",
   "metadata": {},
   "outputs": [
    {
     "name": "stdout",
     "output_type": "stream",
     "text": [
      "Whoever is happy will make others happy too\n",
      "--Anne Frank\n"
     ]
    }
   ],
   "source": [
    "print(\"Whoever is happy will make others happy too\")\n",
    "print(\"--Anne Frank\")"
   ]
  },
  {
   "cell_type": "markdown",
   "id": "6cf57e74-c491-40ab-8b34-eac53427c67f",
   "metadata": {},
   "source": [
    "## bài 2"
   ]
  },
  {
   "cell_type": "code",
   "execution_count": 2,
   "id": "132ee799-0807-4636-8cea-b4f610d3855c",
   "metadata": {},
   "outputs": [
    {
     "name": "stdin",
     "output_type": "stream",
     "text": [
      "Moi ban nhap so a:  3\n",
      "Moi ban nhap so b:  7\n"
     ]
    }
   ],
   "source": [
    "# Nhập dữ liệu\n",
    "a = int(input(\"Moi ban nhap so a: \"))\n",
    "b = int(input(\"Moi ban nhap so b: \"))\n"
   ]
  },
  {
   "cell_type": "code",
   "execution_count": 3,
   "id": "a9af09eb-9c41-4443-9c57-62e5eef9353f",
   "metadata": {},
   "outputs": [],
   "source": [
    "# Xử lý\n",
    "kqCong = a + b\n",
    "kqTru = a - b\n",
    "kqNhan = a * b\n",
    "kqChiaNguyen = a // b\n",
    "kqDu= a % b\n",
    "kqChiaThuc = a / b\n"
   ]
  },
  {
   "cell_type": "code",
   "execution_count": 4,
   "id": "fdb70479-f061-4b00-9ffa-140b515b3b65",
   "metadata": {},
   "outputs": [
    {
     "name": "stdout",
     "output_type": "stream",
     "text": [
      "Cac ket qua tinh toan: \n",
      "3     +     7 =    10\n",
      "3     -     7 =    -4\n",
      "3     *     7 =    21\n",
      "3     /     7 =     0\n",
      "3     /     7 =     3\n",
      "3     /     7 =  0.43\n"
     ]
    }
   ],
   "source": [
    "# Xuất dữ liệu\n",
    "print(\"Cac ket qua tinh toan: \")\n",
    "print(\"%-5d + %5d = %5d\"%(a, b, kqCong))\n",
    "print(\"%-5d - %5d = %5d\"%(a, b, kqTru))\n",
    "print(\"%-5d * %5d = %5d\"%(a, b, kqNhan))\n",
    "print(\"%-5d / %5d = %5d\"%(a, b, kqChiaNguyen))\n",
    "print(\"%-5d / %5d = %5d\"%(a, b, kqDu))\n",
    "print(\"%-5d / %5d = %5.2f\"%(a, b, kqChiaThuc))"
   ]
  },
  {
   "cell_type": "markdown",
   "id": "c2c4b8de-a06c-42b1-a7e6-b9884c24940f",
   "metadata": {},
   "source": [
    "## bài 3"
   ]
  },
  {
   "cell_type": "code",
   "execution_count": 5,
   "id": "909981b6-8d1a-48e6-bc07-3620988605f3",
   "metadata": {},
   "outputs": [
    {
     "name": "stdin",
     "output_type": "stream",
     "text": [
      "Moi ban nhap so a:  4\n",
      "Moi ban nhap so b:  5\n"
     ]
    }
   ],
   "source": [
    "# Nhập dữ liệu\n",
    "a = float(input(\"Moi ban nhap so a: \"))\n",
    "b = float(input(\"Moi ban nhap so b: \"))"
   ]
  },
  {
   "cell_type": "code",
   "execution_count": 6,
   "id": "ad46bc26-cf8a-405e-a9bb-fd7909516c1a",
   "metadata": {},
   "outputs": [
    {
     "name": "stdout",
     "output_type": "stream",
     "text": [
      "Ket qua so sanh hai so thuc 4.00 va 5.00:\n",
      "4.00     <     5.00:     True\n",
      "4.00     <=     5.00:     True\n",
      "4.00     >     5.00:    False\n",
      "4.00     >=     5.00:    False\n",
      "4.00     ==     5.00:    False\n",
      "4.00     !=     5.00:     True\n"
     ]
    }
   ],
   "source": [
    "# Xử lý\n",
    "laNhoHon = (a < b)\n",
    "laNhoHonBang = (a <= b)\n",
    "laLonHon = (a > b)\n",
    "laLonHonBang = (a >= b)\n",
    "laBang = (a == b)\n",
    "laKhacNhau = (a != b)\n",
    "# Xuất dữ liệu\n",
    "print(\"Ket qua so sanh hai so thuc %.2f va %.2f:\"%(a, b))\n",
    "print(\"%-8.2f < %8.2f: %8s\"%(a, b, laNhoHon))\n",
    "print(\"%-8.2f <= %8.2f: %8s\"%(a, b, laNhoHonBang))\n",
    "print(\"%-8.2f > %8.2f: %8s\"%(a, b, laLonHon))\n",
    "print(\"%-8.2f >= %8.2f: %8s\"%(a, b, laLonHonBang))\n",
    "print(\"%-8.2f == %8.2f: %8s\"%(a, b, laBang))\n",
    "print(\"%-8.2f != %8.2f: %8s\"%(a, b, laKhacNhau))"
   ]
  },
  {
   "cell_type": "code",
   "execution_count": null,
   "id": "b27f273e-2fd6-4f76-8e5b-33a5874cc679",
   "metadata": {},
   "outputs": [],
   "source": []
  }
 ],
 "metadata": {
  "kernelspec": {
   "display_name": "Python 3 (ipykernel)",
   "language": "python",
   "name": "python3"
  },
  "language_info": {
   "codemirror_mode": {
    "name": "ipython",
    "version": 3
   },
   "file_extension": ".py",
   "mimetype": "text/x-python",
   "name": "python",
   "nbconvert_exporter": "python",
   "pygments_lexer": "ipython3",
   "version": "3.12.1"
  }
 },
 "nbformat": 4,
 "nbformat_minor": 5
}
