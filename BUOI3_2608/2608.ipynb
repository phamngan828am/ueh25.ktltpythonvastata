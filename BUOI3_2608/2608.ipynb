{
 "cells": [
  {
   "cell_type": "markdown",
   "id": "303ec6dc-67c9-48fc-97c0-e472906f0955",
   "metadata": {},
   "source": [
    "# BUỔI 3: PHÂN TÍCH DỮ LIỆU VỚI PYTHON"
   ]
  },
  {
   "cell_type": "code",
   "execution_count": 2,
   "id": "a79aceae-3527-4fae-aece-11d71be512b2",
   "metadata": {},
   "outputs": [
    {
     "name": "stdout",
     "output_type": "stream",
     "text": [
      "fatal: destination path 'pydata-book' already exists and is not an empty directory.\n"
     ]
    }
   ],
   "source": [
    "!git clone https://github.com/wesm/pydata-book.git"
   ]
  },
  {
   "cell_type": "markdown",
   "id": "d03dba61-d352-4ccd-a744-e311fdb2492a",
   "metadata": {},
   "source": [
    "# KẾT THÚC"
   ]
  },
  {
   "cell_type": "code",
   "execution_count": null,
   "id": "69f18538-99fd-4e36-88dd-ac6e7950bef1",
   "metadata": {},
   "outputs": [
    {
     "name": "stdout",
     "output_type": "stream",
     "text": [
      "rm: remove write-protected regular file 'pydata-book/.git/objects/pack/pack-f85b376896d3b59d9eef624c7f89ee142bf3b78c.idx'? "
     ]
    }
   ],
   "source": [
    "!rm -r pydata-book"
   ]
  },
  {
   "cell_type": "code",
   "execution_count": null,
   "id": "bc280190-6f95-4276-a1f9-8fdfce74286c",
   "metadata": {},
   "outputs": [],
   "source": [
    "!ls pydata-book/\n",
    "!sudo rm -r pydata-book.git"
   ]
  },
  {
   "cell_type": "code",
   "execution_count": 1,
   "id": "5ee77a49-c21e-4ad1-84d4-bdb8ea0ca117",
   "metadata": {},
   "outputs": [
    {
     "data": {
      "text/plain": [
       "[1, 2, 3, 4, 5, 1, 2, 3, 4, 5]"
      ]
     },
     "execution_count": 1,
     "metadata": {},
     "output_type": "execute_result"
    }
   ],
   "source": [
    "v = list(range(1, 6))\n",
    "v\n",
    "2 * v"
   ]
  },
  {
   "cell_type": "code",
   "execution_count": 4,
   "id": "d175eac6-91bd-4cc0-860e-5d0e5375b574",
   "metadata": {},
   "outputs": [
    {
     "data": {
      "text/plain": [
       "array([1, 2, 3, 4, 5])"
      ]
     },
     "execution_count": 4,
     "metadata": {},
     "output_type": "execute_result"
    }
   ],
   "source": [
    "import numpy as np\n",
    "v = np.arange(1, 6)\n",
    "v\n"
   ]
  },
  {
   "cell_type": "code",
   "execution_count": 3,
   "id": "9e719f84-dc3d-49eb-8938-21b6a50ef009",
   "metadata": {},
   "outputs": [
    {
     "data": {
      "text/plain": [
       "array([ 2,  4,  6,  8, 10])"
      ]
     },
     "execution_count": 3,
     "metadata": {},
     "output_type": "execute_result"
    }
   ],
   "source": [
    "2 * v"
   ]
  },
  {
   "cell_type": "code",
   "execution_count": 5,
   "id": "c5cc07b0-08a7-40eb-97dd-42a025ee914c",
   "metadata": {},
   "outputs": [],
   "source": [
    "fruits = [\"apple\", \"banana\", \"cherry\"] #lists []\n",
    "colors = (\"red\", \"green\", \"blue\") #tuples ()\n",
    "animals = {'cat', 'dog'} #sets {}\n",
    "person = {\"name\" : \"Tom\", \"age\" : 20} #dictionaries {}"
   ]
  },
  {
   "cell_type": "code",
   "execution_count": 6,
   "id": "632da4d8-0614-48b0-b718-1193ef41d233",
   "metadata": {},
   "outputs": [
    {
     "name": "stdout",
     "output_type": "stream",
     "text": [
      "4\n",
      "60\n",
      "70\n",
      "90\n"
     ]
    }
   ],
   "source": [
    "x = [60, 70, 80, 90]\n",
    "print(len(x))\n",
    "print(x[0])\n",
    "print(x[1])\n",
    "print(x[-1])"
   ]
  },
  {
   "cell_type": "code",
   "execution_count": 7,
   "id": "8fd0fdfa-6012-4431-9343-4d1d6081a626",
   "metadata": {},
   "outputs": [
    {
     "data": {
      "text/plain": [
       "array([ 4, 10, 18])"
      ]
     },
     "execution_count": 7,
     "metadata": {},
     "output_type": "execute_result"
    }
   ],
   "source": [
    "import numpy as np\n",
    "a = np.array([1, 2, 3])\n",
    "b = np.array([4, 5, 6])\n",
    "c = a * b\n",
    "c\n"
   ]
  },
  {
   "cell_type": "code",
   "execution_count": 8,
   "id": "2f6adb53-aac2-4ff3-af1c-6a8f6ab87224",
   "metadata": {},
   "outputs": [
    {
     "name": "stdout",
     "output_type": "stream",
     "text": [
      "[[0. 0.]\n",
      " [0. 0.]]\n",
      "[[1. 1.]]\n",
      "[[7 7]\n",
      " [7 7]]\n",
      "[[1. 0.]\n",
      " [0. 1.]]\n",
      "[[0.60769052 0.30284658]\n",
      " [0.97796552 0.04140218]]\n"
     ]
    }
   ],
   "source": [
    "import numpy as np\n",
    "\n",
    "a = np.zeros((2,2)) # Create an array of all zeros\n",
    "print(a)# Prints \"[ [ 0. 0.]\n",
    "        #[ 0. 0.]]\"\n",
    "b = np.ones((1,2))# Create an array of all ones\n",
    "print(b)# Prints \"[ [ 1. 1.]]\"\n",
    "\n",
    "c = np.full((2,2),7) #Create a constant array\n",
    "print(c)# Prints \"[ [ 7. 7.]\n",
    "\n",
    "d =np.eye(2)# Create a 2x2 identity matrix\n",
    "print(d)# Prints \"[[ 1. 0.]\n",
    "          #      [ 0. 1.]]\"\n",
    "e = np.random. random( (2,2)) # Create an array filled with random values\n",
    "print(e)"
   ]
  },
  {
   "cell_type": "code",
   "execution_count": 10,
   "id": "601cda0c-e5db-4667-acf5-d6814310f79b",
   "metadata": {},
   "outputs": [
    {
     "data": {
      "text/plain": [
       "array([[ 0,  1,  2,  3,  4],\n",
       "       [ 5,  6,  7,  8,  9],\n",
       "       [10, 11, 12, 13, 14]])"
      ]
     },
     "execution_count": 10,
     "metadata": {},
     "output_type": "execute_result"
    }
   ],
   "source": [
    "import numpy as np\n",
    "a = np.arange(15).reshape(3, 5)\n",
    "a"
   ]
  },
  {
   "cell_type": "code",
   "execution_count": 11,
   "id": "a90470c2-2c78-42e6-b4dd-dfb147dcc33d",
   "metadata": {},
   "outputs": [
    {
     "name": "stdout",
     "output_type": "stream",
     "text": [
      "(3, 5)\n"
     ]
    }
   ],
   "source": [
    "print (a.shape)"
   ]
  },
  {
   "cell_type": "code",
   "execution_count": 12,
   "id": "fb7740f4-eb9c-46f6-b715-925c0b0883bd",
   "metadata": {},
   "outputs": [
    {
     "data": {
      "text/plain": [
       "2"
      ]
     },
     "execution_count": 12,
     "metadata": {},
     "output_type": "execute_result"
    }
   ],
   "source": [
    "a.ndim"
   ]
  },
  {
   "cell_type": "code",
   "execution_count": 13,
   "id": "c53c63ec-3fe1-4f41-a8d1-8542cdbaa6f2",
   "metadata": {},
   "outputs": [
    {
     "data": {
      "text/plain": [
       "'int64'"
      ]
     },
     "execution_count": 13,
     "metadata": {},
     "output_type": "execute_result"
    }
   ],
   "source": [
    "a.dtype.name"
   ]
  },
  {
   "cell_type": "code",
   "execution_count": 16,
   "id": "c66f8460-c7be-436c-b104-f962ef633eaf",
   "metadata": {},
   "outputs": [
    {
     "data": {
      "text/plain": [
       "array([1, 2, 3, 4, 5])"
      ]
     },
     "execution_count": 16,
     "metadata": {},
     "output_type": "execute_result"
    }
   ],
   "source": [
    "import numpy as np\n",
    "a = np.array([1,2,3,4,5])\n",
    "a"
   ]
  },
  {
   "cell_type": "code",
   "execution_count": 17,
   "id": "df86f372-e2e2-4f34-8d53-841f14232d22",
   "metadata": {},
   "outputs": [
    {
     "data": {
      "text/plain": [
       "array([[ 1,  2,  3,  4,  5],\n",
       "       [ 6,  7,  8,  9, 10],\n",
       "       [11, 12, 13, 14, 15],\n",
       "       [16, 17, 18, 19, 20]])"
      ]
     },
     "execution_count": 17,
     "metadata": {},
     "output_type": "execute_result"
    }
   ],
   "source": [
    "a = np.array([[1,2,3,4,5],[6,7,8,9,10],[11,12,13,14,15],[16,17,18,19,20]])\n",
    "a"
   ]
  },
  {
   "cell_type": "code",
   "execution_count": 18,
   "id": "3e8420a0-36e7-4273-b397-4759b3f20d50",
   "metadata": {},
   "outputs": [
    {
     "data": {
      "text/plain": [
       "array([[ 0,  1,  2,  3],\n",
       "       [10, 11, 12, 13],\n",
       "       [20, 21, 22, 23]])"
      ]
     },
     "execution_count": 18,
     "metadata": {},
     "output_type": "execute_result"
    }
   ],
   "source": [
    "import numpy as np\n",
    "a = np.array([[0, 1, 2, 3],\n",
    "[10, 11, 12, 13],\n",
    "[20, 21, 22, 23]])\n",
    "a\n"
   ]
  },
  {
   "cell_type": "code",
   "execution_count": 20,
   "id": "0af719e3-10a8-4b1f-a2f2-690fe38a15dd",
   "metadata": {},
   "outputs": [
    {
     "data": {
      "text/plain": [
       "array([[ 0,  1,  2,  3],\n",
       "       [10, 11, 12, 13],\n",
       "       [20, 21, 22, 23]])"
      ]
     },
     "execution_count": 20,
     "metadata": {},
     "output_type": "execute_result"
    }
   ],
   "source": [
    "b = np.array([[0, 1, 2, 3], [10, 11, 12, 13], [20, 21, 22, 23]])\n",
    "b"
   ]
  },
  {
   "cell_type": "code",
   "execution_count": 23,
   "id": "9979b2c6-82b6-4892-ac07-4980709c3c41",
   "metadata": {},
   "outputs": [
    {
     "name": "stdout",
     "output_type": "stream",
     "text": [
      "(3, 4)\n",
      "2\n"
     ]
    }
   ],
   "source": [
    "print(b.shape)\n",
    "print(b.ndim)\n"
   ]
  },
  {
   "cell_type": "code",
   "execution_count": 24,
   "id": "05a60076-abc8-416d-8e14-76cd0353394d",
   "metadata": {},
   "outputs": [
    {
     "name": "stdout",
     "output_type": "stream",
     "text": [
      "[[0 1 2]\n",
      " [3 4 5]\n",
      " [6 7 8]]\n",
      "(2, 2)\n"
     ]
    }
   ],
   "source": [
    "a=np.arange(9).reshape(3,3)\n",
    "print(a)\n",
    "print(a[:2,1:].shape)"
   ]
  },
  {
   "cell_type": "code",
   "execution_count": 1,
   "id": "029f50d4-4043-4a50-a078-353116b49e90",
   "metadata": {},
   "outputs": [
    {
     "name": "stdout",
     "output_type": "stream",
     "text": [
      "fatal: pathspec 'BUOI3_2608/pydata-book/datasets/fec/P00000001-ALL.csv' did not match any files\n"
     ]
    }
   ],
   "source": [
    "!git rm --cached BUOI3_2608/pydata-book/datasets/fec/P00000001-ALL.csv"
   ]
  },
  {
   "cell_type": "code",
   "execution_count": 4,
   "id": "0f2c2909-5042-4e54-aea4-42e34491fa20",
   "metadata": {},
   "outputs": [
    {
     "name": "stdout",
     "output_type": "stream",
     "text": [
      "On branch main\n",
      "Your branch is ahead of 'origin/main' by 3 commits.\n",
      "  (use \"git push\" to publish your local commits)\n",
      "\n",
      "nothing to commit, working tree clean\n"
     ]
    }
   ],
   "source": [
    "!git commit -m \"Remove large file from repo\"\n"
   ]
  },
  {
   "cell_type": "code",
   "execution_count": 7,
   "id": "5fbdb638-2de8-420c-a59e-e44b7511bc1e",
   "metadata": {},
   "outputs": [
    {
     "name": "stdout",
     "output_type": "stream",
     "text": [
      "Requirement already satisfied: git-filter-repo in /usr/local/python/3.12.1/lib/python3.12/site-packages (2.47.0)\n",
      "\n",
      "\u001b[1m[\u001b[0m\u001b[34;49mnotice\u001b[0m\u001b[1;39;49m]\u001b[0m\u001b[39;49m A new release of pip is available: \u001b[0m\u001b[31;49m25.1.1\u001b[0m\u001b[39;49m -> \u001b[0m\u001b[32;49m25.2\u001b[0m\n",
      "\u001b[1m[\u001b[0m\u001b[34;49mnotice\u001b[0m\u001b[1;39;49m]\u001b[0m\u001b[39;49m To update, run: \u001b[0m\u001b[32;49mpython3 -m pip install --upgrade pip\u001b[0m\n",
      "Aborting: Refusing to destructively overwrite repo history since\n",
      "this does not look like a fresh clone.\n",
      "  (GIT_DIR must be .git)\n",
      "Please operate on a fresh clone instead.  If you want to proceed\n",
      "anyway, use --force.\n"
     ]
    }
   ],
   "source": [
    "!pip install git-filter-repo\n",
    "!git filter-repo --path BUOI3_2608/pydata-book/datasets/fec/P00000001-ALL.csv --invert-paths"
   ]
  },
  {
   "cell_type": "code",
   "execution_count": 9,
   "id": "3ca9f0c8-fb83-442f-b5cc-4658a86f79ba",
   "metadata": {},
   "outputs": [
    {
     "name": "stdout",
     "output_type": "stream",
     "text": [
      "NOTICE: Removing 'origin' remote; see 'Why is my origin removed?'\n",
      "        in the manual if you want to push back there.\n",
      "        (was https://github.com/phamngan828am/ueh25.ktltpythonvastata)\n",
      "Parsed 28 commits\n",
      "New history written in 0.06 seconds; now repacking/cleaning...\n",
      "Repacking your repo and cleaning out old unneeded objects\n",
      "HEAD is now at 9678282 xóa file lớn\n",
      "Enumerating objects: 303, done.\n",
      "Counting objects: 100% (303/303), done.\n",
      "Delta compression using up to 2 threads\n",
      "Compressing objects: 100% (289/289), done.\n",
      "Writing objects: 100% (303/303), done.\n",
      "Total 303 (delta 49), reused 2 (delta 1), pack-reused 0 (from 0)\n",
      "Completely finished after 7.43 seconds.\n"
     ]
    }
   ],
   "source": [
    "!git filter-repo --path BUOI3_2608/pydata-book/datasets/fec/P00000001-ALL.csv --invert-paths --force"
   ]
  },
  {
   "cell_type": "code",
   "execution_count": 12,
   "id": "0dd553fa-9da0-412e-ba05-90ed9ead06a0",
   "metadata": {},
   "outputs": [
    {
     "name": "stdout",
     "output_type": "stream",
     "text": [
      "Nothing specified, nothing added.\n",
      "\u001b[33mhint: Maybe you wanted to say 'git add .'?\u001b[m\n",
      "\u001b[33mhint: Disable this message with \"git config set advice.addEmptyPathspec false\"\u001b[m\n",
      "On branch main\n",
      "nothing to commit, working tree clean\n"
     ]
    }
   ],
   "source": [
    "!git add\n",
    "!git commit -m \"Remove large CSV file from repo history\""
   ]
  },
  {
   "cell_type": "code",
   "execution_count": null,
   "id": "4d3e0c70-bc4f-4150-8145-23384483e059",
   "metadata": {},
   "outputs": [],
   "source": []
  }
 ],
 "metadata": {
  "kernelspec": {
   "display_name": "Python 3 (ipykernel)",
   "language": "python",
   "name": "python3"
  },
  "language_info": {
   "codemirror_mode": {
    "name": "ipython",
    "version": 3
   },
   "file_extension": ".py",
   "mimetype": "text/x-python",
   "name": "python",
   "nbconvert_exporter": "python",
   "pygments_lexer": "ipython3",
   "version": "3.12.1"
  }
 },
 "nbformat": 4,
 "nbformat_minor": 5
}
